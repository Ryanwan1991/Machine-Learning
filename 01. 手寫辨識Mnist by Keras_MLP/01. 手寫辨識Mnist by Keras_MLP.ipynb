{
 "cells": [
  {
   "cell_type": "code",
   "execution_count": 10,
   "metadata": {},
   "outputs": [],
   "source": [
    "import tensorflow as tf\n",
    "from keras.datasets import mnist\n",
    "import numpy as np\n",
    "import pandas as pd\n",
    "%matplotlib inline\n",
    "import matplotlib.pyplot as plt\n",
    "from keras.utils import np_utils\n",
    "from keras.models import Sequential\n",
    "from keras.layers import Dense"
   ]
  },
  {
   "cell_type": "code",
   "execution_count": 2,
   "metadata": {},
   "outputs": [],
   "source": [
    "(train_feature, train_label),(test_feature, test_label) = mnist.load_data()"
   ]
  },
  {
   "cell_type": "code",
   "execution_count": 3,
   "metadata": {},
   "outputs": [],
   "source": [
    "train_feature_v = train_feature.reshape(len(train_feature), 784).astype('float32') #6000*[row28*col28] to 6000*784\n",
    "test_feature_v = test_feature.reshape(len(test_feature), 784).astype('float32')"
   ]
  },
  {
   "cell_type": "code",
   "execution_count": 5,
   "metadata": {},
   "outputs": [],
   "source": [
    "train_feature_normalize = train_feature_v/225 #Normalize the features\n",
    "test_feature_normalize = test_feature_v/225\n",
    "#print(train_label[0:5])"
   ]
  },
  {
   "cell_type": "code",
   "execution_count": 8,
   "metadata": {},
   "outputs": [],
   "source": [
    "train_label_onehot = np_utils.to_categorical(train_label) #One-Hot encoding\n",
    "test_label_onehot = np_utils.to_categorical(test_label)\n",
    "#print(train_label_onehot[0:5])"
   ]
  },
  {
   "cell_type": "code",
   "execution_count": 12,
   "metadata": {},
   "outputs": [],
   "source": [
    "model = Sequential()\n",
    "model.add(Dense(units=256, input_dim=784,kernel_initializer='normal',activation='relu'))\n",
    "model.add(Dense(units=10,kernel_initializer='normal',activation='softmax'))"
   ]
  },
  {
   "cell_type": "code",
   "execution_count": 14,
   "metadata": {},
   "outputs": [],
   "source": [
    "model.compile(loss='categorical_crossentropy',optimizer='adam',metrics=['accuracy'])"
   ]
  },
  {
   "cell_type": "code",
   "execution_count": 20,
   "metadata": {},
   "outputs": [
    {
     "name": "stdout",
     "output_type": "stream",
     "text": [
      "Train on 48000 samples, validate on 12000 samples\n",
      "Epoch 1/10\n",
      " - 6s - loss: 0.1443 - accuracy: 0.9578 - val_loss: 0.1319 - val_accuracy: 0.9622\n",
      "Epoch 2/10\n",
      " - 6s - loss: 0.0965 - accuracy: 0.9725 - val_loss: 0.1067 - val_accuracy: 0.9678\n",
      "Epoch 3/10\n",
      " - 6s - loss: 0.0713 - accuracy: 0.9795 - val_loss: 0.0968 - val_accuracy: 0.9722\n",
      "Epoch 4/10\n",
      " - 6s - loss: 0.0543 - accuracy: 0.9844 - val_loss: 0.0868 - val_accuracy: 0.9748\n",
      "Epoch 5/10\n",
      " - 6s - loss: 0.0443 - accuracy: 0.9875 - val_loss: 0.0858 - val_accuracy: 0.9751\n",
      "Epoch 6/10\n",
      " - 6s - loss: 0.0348 - accuracy: 0.9906 - val_loss: 0.0864 - val_accuracy: 0.9758\n",
      "Epoch 7/10\n",
      " - 7s - loss: 0.0258 - accuracy: 0.9931 - val_loss: 0.0809 - val_accuracy: 0.9768\n",
      "Epoch 8/10\n",
      " - 6s - loss: 0.0206 - accuracy: 0.9948 - val_loss: 0.0827 - val_accuracy: 0.9768\n",
      "Epoch 9/10\n",
      " - 6s - loss: 0.0156 - accuracy: 0.9963 - val_loss: 0.0862 - val_accuracy: 0.9757\n",
      "Epoch 10/10\n",
      " - 6s - loss: 0.0126 - accuracy: 0.9974 - val_loss: 0.0785 - val_accuracy: 0.9783\n"
     ]
    }
   ],
   "source": [
    "train_start = model.fit(x=train_feature_normalize, y=train_label_onehot, validation_split=0.2, epochs=10, batch_size=100,verbose=2)"
   ]
  },
  {
   "cell_type": "code",
   "execution_count": 21,
   "metadata": {},
   "outputs": [
    {
     "name": "stdout",
     "output_type": "stream",
     "text": [
      "10000/10000 [==============================] - 1s 124us/step\n"
     ]
    },
    {
     "data": {
      "text/plain": [
       "[0.06402902338672138, 0.9797999858856201]"
      ]
     },
     "execution_count": 21,
     "metadata": {},
     "output_type": "execute_result"
    }
   ],
   "source": [
    "scores = model.evaluate(test_feature_normalize, test_label_onehot)\n",
    "scores"
   ]
  },
  {
   "cell_type": "code",
   "execution_count": 22,
   "metadata": {},
   "outputs": [],
   "source": [
    "prediction = model.predict_classes(test_feature_normalize)"
   ]
  },
  {
   "cell_type": "code",
   "execution_count": 18,
   "metadata": {},
   "outputs": [],
   "source": [
    "def show_image_labels_predictions(images, labels, predictions, start_id, num=10):\n",
    "    plt.gcf().set_size_inches(12, 14)\n",
    "    \n",
    "    if num>25: num=25\n",
    "    \n",
    "    for i in range(num):\n",
    "        ax = plt.subplot(5, 5, i+1)\n",
    "        ax.imshow(images[i], cmap = 'binary')\n",
    "        \n",
    "        if( len(predictions) > 0):\n",
    "            title = 'Prediction = %s' %(predictions[start_id])\n",
    "            \n",
    "            title += ('Correct' if predictions[start_id] == labels[start_id] else ' Wrong')\n",
    "            \n",
    "            title += '\\n label =' + str(labels[start_id])\n",
    "            \n",
    "        else: \n",
    "            title = 'Label = %s' %(labels[start_id])\n",
    "            \n",
    "        start_id += 1\n",
    "            \n",
    "        ax.set_title(title, fontsize = 12)\n",
    "        ax.set_xticks([])\n",
    "        ax.set_yticks([])\n",
    "        \n",
    "    plt.show()"
   ]
  },
  {
   "cell_type": "code",
   "execution_count": 24,
   "metadata": {},
   "outputs": [
    {
     "data": {
      "image/png": "[encoded data removed]",
      "text/plain": [
       "<Figure size 864x1008 with 10 Axes>"
      ]
     },
     "metadata": {},
     "output_type": "display_data"
    }
   ],
   "source": [
    "show_image_labels_predictions(test_feature, test_label, prediction,0,10)"
   ]
  }
 ],
 "metadata": {
  "kernelspec": {
   "display_name": "Python 3",
   "language": "python",
   "name": "python3"
  },
  "language_info": {
   "codemirror_mode": {
    "name": "ipython",
    "version": 3
   },
   "file_extension": ".py",
   "mimetype": "text/x-python",
   "name": "python",
   "nbconvert_exporter": "python",
   "pygments_lexer": "ipython3",
   "version": "3.7.6"
  }
 },
 "nbformat": 4,
 "nbformat_minor": 4
}
