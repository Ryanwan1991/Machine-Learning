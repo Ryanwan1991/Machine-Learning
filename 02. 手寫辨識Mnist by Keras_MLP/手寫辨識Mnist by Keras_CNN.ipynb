{
 "cells": [
  {
   "cell_type": "code",
   "execution_count": 34,
   "metadata": {},
   "outputs": [],
   "source": [
    "import numpy as np\n",
    "import pandas as pd\n",
    "import matplotlib.pyplot as plt\n",
    "from keras.datasets import mnist\n",
    "from keras.utils import np_utils\n",
    "from keras.models import Sequential\n",
    "from keras.layers import Conv2D, MaxPooling2D, Dropout, Flatten, Dense"
   ]
  },
  {
   "cell_type": "code",
   "execution_count": 30,
   "metadata": {},
   "outputs": [],
   "source": [
    "(train_feature, train_label), (test_feature, test_label) = mnist.load_data()"
   ]
  },
  {
   "cell_type": "code",
   "execution_count": 31,
   "metadata": {
    "scrolled": false
   },
   "outputs": [],
   "source": [
    "train_feature_vector = train_feature.reshape(len(train_feature),28,28,1).astype('float32')\n",
    "test_feature_vector = test_feature.reshape(len(test_feature),28,28,1).astype('float32')"
   ]
  },
  {
   "cell_type": "code",
   "execution_count": 32,
   "metadata": {},
   "outputs": [],
   "source": [
    "train_feature_normalize = train_feature_vector/225 #Normalize the features\n",
    "test_feature_normalize = test_feature_vector/225"
   ]
  },
  {
   "cell_type": "code",
   "execution_count": 33,
   "metadata": {},
   "outputs": [],
   "source": [
    "train_label_onehot = np_utils.to_categorical(train_label) #One-Hot encoding\n",
    "test_label_onehot = np_utils.to_categorical(test_label)"
   ]
  },
  {
   "cell_type": "code",
   "execution_count": 35,
   "metadata": {},
   "outputs": [],
   "source": [
    "model = Sequential()"
   ]
  },
  {
   "cell_type": "code",
   "execution_count": 36,
   "metadata": {},
   "outputs": [],
   "source": [
    "model.add(Conv2D(filters=10, kernel_size=(3,3), padding='same', input_shape=(28,28,1), activation='relu'))"
   ]
  },
  {
   "cell_type": "code",
   "execution_count": 37,
   "metadata": {},
   "outputs": [],
   "source": [
    "model.add(MaxPooling2D(pool_size=(2,2)))"
   ]
  },
  {
   "cell_type": "code",
   "execution_count": 38,
   "metadata": {},
   "outputs": [],
   "source": [
    "model.add(Conv2D(filters=20, kernel_size=(3,3), padding='same', activation='relu'))"
   ]
  },
  {
   "cell_type": "code",
   "execution_count": 39,
   "metadata": {},
   "outputs": [],
   "source": [
    "model.add(MaxPooling2D(pool_size=(2,2)))"
   ]
  },
  {
   "cell_type": "code",
   "execution_count": 40,
   "metadata": {},
   "outputs": [],
   "source": [
    "model.add(Dropout(0.2))"
   ]
  },
  {
   "cell_type": "code",
   "execution_count": 42,
   "metadata": {},
   "outputs": [],
   "source": [
    "model.add(Flatten())\n",
    "model.add(Dense(units=256,activation='relu'))\n",
    "model.add(Dense(units=10,activation='softmax'))"
   ]
  },
  {
   "cell_type": "code",
   "execution_count": 43,
   "metadata": {},
   "outputs": [],
   "source": [
    "model.compile(loss='categorical_crossentropy', optimizer='adam', metrics=['accuracy'])"
   ]
  },
  {
   "cell_type": "code",
   "execution_count": 44,
   "metadata": {},
   "outputs": [
    {
     "name": "stdout",
     "output_type": "stream",
     "text": [
      "Train on 48000 samples, validate on 12000 samples\n",
      "Epoch 1/10\n",
      " - 71s - loss: 0.4005 - accuracy: 0.8826 - val_loss: 0.1162 - val_accuracy: 0.9665\n",
      "Epoch 2/10\n",
      " - 61s - loss: 0.1168 - accuracy: 0.9642 - val_loss: 0.0823 - val_accuracy: 0.9763\n",
      "Epoch 3/10\n",
      " - 64s - loss: 0.0844 - accuracy: 0.9738 - val_loss: 0.0623 - val_accuracy: 0.9810\n",
      "Epoch 4/10\n",
      " - 73s - loss: 0.0669 - accuracy: 0.9795 - val_loss: 0.0577 - val_accuracy: 0.9830\n",
      "Epoch 5/10\n",
      " - 65s - loss: 0.0551 - accuracy: 0.9824 - val_loss: 0.0463 - val_accuracy: 0.9872\n",
      "Epoch 6/10\n",
      " - 64s - loss: 0.0468 - accuracy: 0.9856 - val_loss: 0.0480 - val_accuracy: 0.9868\n",
      "Epoch 7/10\n",
      " - 65s - loss: 0.0406 - accuracy: 0.9868 - val_loss: 0.0450 - val_accuracy: 0.9871\n",
      "Epoch 8/10\n",
      " - 64s - loss: 0.0345 - accuracy: 0.9890 - val_loss: 0.0447 - val_accuracy: 0.9872\n",
      "Epoch 9/10\n",
      " - 64s - loss: 0.0330 - accuracy: 0.9889 - val_loss: 0.0400 - val_accuracy: 0.9891\n",
      "Epoch 10/10\n",
      " - 64s - loss: 0.0292 - accuracy: 0.9904 - val_loss: 0.0343 - val_accuracy: 0.9902\n"
     ]
    }
   ],
   "source": [
    "train_start = model.fit(x=train_feature_normalize,\n",
    "                       y=train_label_onehot,\n",
    "                       validation_split=0.2,\n",
    "                       epochs=10,\n",
    "                       batch_size=200,\n",
    "                       verbose=2)"
   ]
  },
  {
   "cell_type": "code",
   "execution_count": 50,
   "metadata": {},
   "outputs": [
    {
     "name": "stdout",
     "output_type": "stream",
     "text": [
      "10000/10000 [==============================] - 6s 612us/step\n",
      "Accurcy: 0.990700\n"
     ]
    }
   ],
   "source": [
    "accuracy = model.evaluate(test_feature_normalize, test_label_onehot)\n",
    "print ('Accurcy: %3f' %accuracy[1] )"
   ]
  },
  {
   "cell_type": "code",
   "execution_count": 51,
   "metadata": {},
   "outputs": [],
   "source": [
    "prediction = model.predict_classes(test_feature_normalize)"
   ]
  },
  {
   "cell_type": "code",
   "execution_count": 45,
   "metadata": {},
   "outputs": [],
   "source": [
    "def show_image_labels_predictions(images, labels, predictions, start_id, num=10):\n",
    "    plt.gcf().set_size_inches(12, 14)\n",
    "    \n",
    "    if num>25: num=25\n",
    "    \n",
    "    for i in range(num):\n",
    "        ax = plt.subplot(5, 5, i+1)\n",
    "        ax.imshow(images[i], cmap = 'binary')\n",
    "        \n",
    "        if( len(predictions) > 0):\n",
    "            title = 'Prediction = %s' %(predictions[start_id])\n",
    "            \n",
    "            title += ('Correct' if predictions[start_id] == labels[start_id] else ' Wrong')\n",
    "            \n",
    "            title += '\\n label =' + str(labels[start_id])\n",
    "            \n",
    "        else: \n",
    "            title = 'Label = %s' %(labels[start_id])\n",
    "            \n",
    "        start_id += 1\n",
    "            \n",
    "        ax.set_title(title, fontsize = 12)\n",
    "        ax.set_xticks([])\n",
    "        ax.set_yticks([])\n",
    "        \n",
    "    plt.show()"
   ]
  },
  {
   "cell_type": "code",
   "execution_count": 52,
   "metadata": {},
   "outputs": [
    {
     "data": {
      "image/png": "[encoded data removed]",
      "text/plain": [
       "<Figure size 864x1008 with 10 Axes>"
      ]
     },
     "metadata": {},
     "output_type": "display_data"
    }
   ],
   "source": [
    "show_image_labels_predictions(test_feature, test_label, prediction,0,10)"
   ]
  },
  {
   "cell_type": "code",
   "execution_count": 55,
   "metadata": {},
   "outputs": [],
   "source": [
    "model.save('Minst by Keras_CNN.h5')\n",
    "model.save_weights('Minst by Keras_CNN.weight ')"
   ]
  }
 ],
 "metadata": {
  "kernelspec": {
   "display_name": "Python 3",
   "language": "python",
   "name": "python3"
  },
  "language_info": {
   "codemirror_mode": {
    "name": "ipython",
    "version": 3
   },
   "file_extension": ".py",
   "mimetype": "text/x-python",
   "name": "python",
   "nbconvert_exporter": "python",
   "pygments_lexer": "ipython3",
   "version": "3.6.9"
  }
 },
 "nbformat": 4,
 "nbformat_minor": 4
}
